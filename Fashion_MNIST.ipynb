{
  "nbformat": 4,
  "nbformat_minor": 0,
  "metadata": {
    "colab": {
      "provenance": []
    },
    "kernelspec": {
      "name": "python3",
      "display_name": "Python 3"
    },
    "language_info": {
      "name": "python"
    }
  },
  "cells": [
    {
      "cell_type": "code",
      "execution_count": 14,
      "metadata": {
        "id": "wzwkknyT7yh1"
      },
      "outputs": [],
      "source": [
        "import numpy as np\n",
        "from keras.datasets import fashion_mnist\n",
        "import matplotlib.pyplot as plt"
      ]
    },
    {
      "cell_type": "code",
      "source": [
        "(X_train, Y_train), (X_test, Y_test) = fashion_mnist.load_data()\n",
        "print({\"the training set data the shape \" + str(X_train.shape)})\n",
        "print({\"the training set labels hast the shape \" + str(Y_train.shape)})\n",
        "print({\"the testing set data the shape \" + str(X_test.shape)})\n",
        "print({\"the testing set labels hast the shape \" + str(Y_test.shape)})"
      ],
      "metadata": {
        "colab": {
          "base_uri": "https://localhost:8080/"
        },
        "id": "VLGhtRCP8BlQ",
        "outputId": "1b3977d5-dc42-4773-dbbb-4ac2e8b475b6"
      },
      "execution_count": 6,
      "outputs": [
        {
          "output_type": "stream",
          "name": "stdout",
          "text": [
            "{'the training set data the shape (60000, 28, 28)'}\n",
            "{'the training set labels hast the shape (60000,)'}\n",
            "{'the testing set data the shape (10000, 28, 28)'}\n",
            "{'the testing set labels hast the shape (10000,)'}\n"
          ]
        }
      ]
    },
    {
      "cell_type": "code",
      "source": [
        "## now we take a look at the data set\n",
        "sample_img_idx = np.random.randint(0, X_train.shape[0]+1, 9)\n",
        "plt.figure(figsize=(10,10))\n",
        "for i, j in enumerate(sample_img_idx):\n",
        "    image, label = X_train[j], Y_train[j]\n",
        "    ax=plt.subplot(3,3,i+1)\n",
        "    plt.imshow(image, cmap = plt.get_cmap('gray'))\n",
        "    plt.title(label)\n",
        "    plt.axis('off')"
      ],
      "metadata": {
        "colab": {
          "base_uri": "https://localhost:8080/",
          "height": 591
        },
        "id": "f2Z185gc9211",
        "outputId": "74897c2c-127d-45b4-ec2e-b3dd41a71c16"
      },
      "execution_count": 17,
      "outputs": [
        {
          "output_type": "display_data",
          "data": {
            "text/plain": [
              "<Figure size 720x720 with 9 Axes>"
            ],
            "image/png": "[encoded data removed]"
          },
          "metadata": {
            "needs_background": "light"
          }
        }
      ]
    },
    {
      "cell_type": "markdown",
      "source": [
        "from above, we can see the X_train are images, with dimensions 28*28, and there are 60000 of the training samples.\n",
        "in the picture showed above, there are corresponding numbers labeled above the picture, which are the true lables of those picture.\n",
        "according to the dataset discription:\n",
        "*0 T-shirt/top\n",
        "*1 Trouser\n",
        "*2 Pullover\n",
        "*3 Dress\n",
        "*4 Coat\n",
        "*5 Sandal\n",
        "*6 Shirt\n",
        "*7 Sneaker\n",
        "*8 Bag\n",
        "*9 Ankle boot"
      ],
      "metadata": {
        "id": "gxmWkHqI_J0c"
      }
    },
    {
      "cell_type": "code",
      "source": [
        "## for image datasets, the most common way to process them is verterising them as matrices\n",
        "## each emach is a 28*28 matrix in this dataset, and there are 60,000 of them\n",
        "## Thus, we need to reshape them as 60,000 * (28*28) format as the input features\n",
        "\n",
        "X_train = X_train.reshape(60000,28*28)\n",
        "X_test = X_test.reshape(10000,28*28)\n",
        "\n",
        "## for multi-class classification problem, one-hot encoding is the easy way to represent the labels\n",
        "## define the one-hot fuction\n",
        "def one_hot(X):\n",
        "  zeros = np.zeros(shape=(X.shape[0], 10))\n",
        "  zeros[np.arange(X.size), X] = 1\n",
        "  return zeros\n",
        "\n",
        "Y_train = one_hot(Y_train)\n",
        "Y_test = one_hot(Y_test)\n",
        "\n",
        "## now we need to normalizing the images as it's important for for the neural netwarks. when we implement MLP, \n",
        "## the training process involve backpropogating, which will accumulatively add the gradient\n",
        "## we need to make sure the weights are proper throughout the trainig process\n",
        "\n",
        "X_train = ((X_train-np.mean(X_train,axis=0))/np.std(X_train,axis=0))\n",
        "X_test = ((X_test-np.mean(X_test,axis=0))/np.std(X_test,axis=0))"
      ],
      "metadata": {
        "id": "Tnb4Q-NHAGCD"
      },
      "execution_count": 18,
      "outputs": []
    },
    {
      "cell_type": "code",
      "source": [
        "## now we need to further split the training set into trainning set and validation set\n",
        "## we need validation set in the future when we apply the MLP, we need to find the most proper hyperparameters\n",
        "## based on the accuracy generated by the validation set\n",
        "\n",
        "## 3:1 = training : validation\n",
        "## shuffle the dataset\n",
        "p = np.random.permutation(X_train.shape[0])\n",
        "\n",
        "## split\n",
        "X_val, Y_val = X_train[p[:15000]], Y_train[p[:15000]]\n",
        "X_train, Y_train = X_train[p[15000:]], Y_train[p[15000:]]"
      ],
      "metadata": {
        "id": "_izueS47CnqU"
      },
      "execution_count": 19,
      "outputs": []
    }
  ]
}